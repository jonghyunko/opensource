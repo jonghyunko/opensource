{
 "cells": [
  {
   "cell_type": "code",
   "execution_count": 16,
   "id": "2e165c15",
   "metadata": {},
   "outputs": [
    {
     "data": {
      "text/html": [
       "<div>\n",
       "<style scoped>\n",
       "    .dataframe tbody tr th:only-of-type {\n",
       "        vertical-align: middle;\n",
       "    }\n",
       "\n",
       "    .dataframe tbody tr th {\n",
       "        vertical-align: top;\n",
       "    }\n",
       "\n",
       "    .dataframe thead th {\n",
       "        text-align: right;\n",
       "    }\n",
       "</style>\n",
       "<table border=\"1\" class=\"dataframe\">\n",
       "  <thead>\n",
       "    <tr style=\"text-align: right;\">\n",
       "      <th></th>\n",
       "      <th>all</th>\n",
       "      <th>user</th>\n",
       "    </tr>\n",
       "  </thead>\n",
       "  <tbody>\n",
       "    <tr>\n",
       "      <th>0</th>\n",
       "      <td>25.0</td>\n",
       "      <td>48.0</td>\n",
       "    </tr>\n",
       "    <tr>\n",
       "      <th>1</th>\n",
       "      <td>6.8</td>\n",
       "      <td>41.4</td>\n",
       "    </tr>\n",
       "    <tr>\n",
       "      <th>2</th>\n",
       "      <td>1.3</td>\n",
       "      <td>37.4</td>\n",
       "    </tr>\n",
       "    <tr>\n",
       "      <th>3</th>\n",
       "      <td>7.4</td>\n",
       "      <td>26.6</td>\n",
       "    </tr>\n",
       "    <tr>\n",
       "      <th>4</th>\n",
       "      <td>14.9</td>\n",
       "      <td>25.9</td>\n",
       "    </tr>\n",
       "  </tbody>\n",
       "</table>\n",
       "</div>"
      ],
      "text/plain": [
       "    all  user\n",
       "0  25.0  48.0\n",
       "1   6.8  41.4\n",
       "2   1.3  37.4\n",
       "3   7.4  26.6\n",
       "4  14.9  25.9"
      ]
     },
     "execution_count": 16,
     "metadata": {},
     "output_type": "execute_result"
    }
   ],
   "source": [
    "import pandas as pd\n",
    "import matplotlib.pyplot as plt\n",
    "import seaborn as sns\n",
    "import matplotlib.font_manager as fm\n",
    "import numpy as np\n",
    "import random as rd\n",
    "\n",
    "df = pd.read_csv('def.csv', encoding = 'cp949')\n",
    "\n",
    "data.head()"
   ]
  },
  {
   "cell_type": "code",
   "execution_count": 18,
   "id": "1e05c367",
   "metadata": {},
   "outputs": [
    {
     "data": {
      "image/png": "[encoded data removed]",
      "text/plain": [
       "<Figure size 432x288 with 1 Axes>"
      ]
     },
     "metadata": {
      "needs_background": "light"
     },
     "output_type": "display_data"
    }
   ],
   "source": [
    "X = df.iloc[:, [0, 1]].values \n",
    "m=X.shape[0] \n",
    "n=X.shape[1] \n",
    "\n",
    "plt.scatter(X[:,0],X[:,1],c='black',label='people')\n",
    "plt.xlabel('all')\n",
    "plt.ylabel('user')\n",
    "plt.legend()\n",
    "plt.title('kmeans')\n",
    "plt.show()"
   ]
  },
  {
   "cell_type": "code",
   "execution_count": 19,
   "id": "7d5b84bf",
   "metadata": {},
   "outputs": [
    {
     "data": {
      "text/plain": [
       "array([], shape=(2, 0), dtype=float64)"
      ]
     },
     "execution_count": 19,
     "metadata": {},
     "output_type": "execute_result"
    }
   ],
   "source": [
    "K=3\n",
    "n_iter=100\n",
    "Centroids=np.array([]).reshape(n,0)\n",
    "Centroids \n"
   ]
  },
  {
   "cell_type": "code",
   "execution_count": 20,
   "id": "1b30476b",
   "metadata": {},
   "outputs": [
    {
     "data": {
      "text/plain": [
       "array([[ 5.6,  1. ,  1. ],\n",
       "       [34.1, 29.3, 29.3]])"
      ]
     },
     "execution_count": 20,
     "metadata": {},
     "output_type": "execute_result"
    }
   ],
   "source": [
    "for i in range(K): # 0, 1, 2\n",
    "    rand=rd.randint(0,m-1) # 0과 21 사이 난수 생성\n",
    "    Centroids=np.c_[Centroids,X[rand]] # 클러스터 중심(열) 추가\n",
    "Centroids # K개 클러스터 중심 초기값. shape=(2, 3)"
   ]
  },
  {
   "cell_type": "code",
   "execution_count": 21,
   "id": "75603e58",
   "metadata": {},
   "outputs": [],
   "source": [
    "Output={}"
   ]
  },
  {
   "cell_type": "code",
   "execution_count": 22,
   "id": "4b9a9563",
   "metadata": {},
   "outputs": [
    {
     "data": {
      "text/plain": [
       "array([], shape=(18, 0), dtype=float64)"
      ]
     },
     "execution_count": 22,
     "metadata": {},
     "output_type": "execute_result"
    }
   ],
   "source": [
    "EuclidianDistance=np.array([]).reshape(m,0)\n",
    "EuclidianDistance "
   ]
  },
  {
   "cell_type": "code",
   "execution_count": 23,
   "id": "107326ca",
   "metadata": {},
   "outputs": [
    {
     "data": {
      "text/plain": [
       "array([ 5.6, 34.1])"
      ]
     },
     "execution_count": 23,
     "metadata": {},
     "output_type": "execute_result"
    }
   ],
   "source": [
    "Centroids[:,0] # shape=(2,)"
   ]
  },
  {
   "cell_type": "code",
   "execution_count": 26,
   "id": "c5f634a2",
   "metadata": {},
   "outputs": [
    {
     "data": {
      "text/plain": [
       "array([569.57,  54.73,  29.38,  59.49, 153.73, 115.3 ,  97.  ,  71.24,\n",
       "         2.32, 326.53,   0.  ,  44.2 , 549.65, 247.45, 279.97, 225.85,\n",
       "        57.7 ,   6.74])"
      ]
     },
     "execution_count": 26,
     "metadata": {},
     "output_type": "execute_result"
    }
   ],
   "source": [
    "tempDist = np.sum((X-Centroids[:,0])**2,axis=1)\n",
    "tempDist"
   ]
  },
  {
   "cell_type": "code",
   "execution_count": 27,
   "id": "983513cb",
   "metadata": {},
   "outputs": [
    {
     "data": {
      "text/plain": [
       "array([[569.57],\n",
       "       [ 54.73],\n",
       "       [ 29.38],\n",
       "       [ 59.49],\n",
       "       [153.73],\n",
       "       [115.3 ],\n",
       "       [ 97.  ],\n",
       "       [ 71.24],\n",
       "       [  2.32],\n",
       "       [326.53],\n",
       "       [  0.  ],\n",
       "       [ 44.2 ],\n",
       "       [549.65],\n",
       "       [247.45],\n",
       "       [279.97],\n",
       "       [225.85],\n",
       "       [ 57.7 ],\n",
       "       [  6.74]])"
      ]
     },
     "execution_count": 27,
     "metadata": {},
     "output_type": "execute_result"
    }
   ],
   "source": [
    "np.c_[EuclidianDistance,tempDist]"
   ]
  },
  {
   "cell_type": "code",
   "execution_count": 28,
   "id": "6e2e14c6",
   "metadata": {},
   "outputs": [
    {
     "data": {
      "text/plain": [
       "array([[569.57, 925.69, 925.69],\n",
       "       [ 54.73, 180.05, 180.05],\n",
       "       [ 29.38,  65.7 ,  65.7 ],\n",
       "       [ 59.49,  48.25,  48.25],\n",
       "       [153.73, 204.77, 204.77],\n",
       "       [115.3 ,  48.5 ,  48.5 ],\n",
       "       [ 97.  ,  18.  ,  18.  ],\n",
       "       [ 71.24, 175.76, 175.76],\n",
       "       [  2.32,  65.16,  65.16],\n",
       "       [326.53, 595.57, 595.57],\n",
       "       [  0.  ,  44.2 ,  44.2 ],\n",
       "       [ 44.2 ,   0.  ,   0.  ],\n",
       "       [549.65, 346.25, 346.25],\n",
       "       [247.45, 202.05, 202.05],\n",
       "       [279.97, 145.49, 145.49],\n",
       "       [225.85,  92.25,  92.25],\n",
       "       [ 57.7 , 152.66, 152.66],\n",
       "       [  6.74,  33.38,  33.38]])"
      ]
     },
     "execution_count": 28,
     "metadata": {},
     "output_type": "execute_result"
    }
   ],
   "source": [
    "for k in range(K): # 0, 1, 2\n",
    "    tempDist=np.sum((X-Centroids[:,k])**2,axis=1)\n",
    "    EuclidianDistance=np.c_[EuclidianDistance,tempDist]\n",
    "EuclidianDistance"
   ]
  },
  {
   "cell_type": "code",
   "execution_count": 29,
   "id": "90b0ac41",
   "metadata": {},
   "outputs": [
    {
     "data": {
      "text/plain": [
       "array([0, 0, 0, 1, 0, 1, 1, 0, 0, 0, 0, 1, 1, 1, 1, 1, 0, 0], dtype=int64)"
      ]
     },
     "execution_count": 29,
     "metadata": {},
     "output_type": "execute_result"
    }
   ],
   "source": [
    "# 유클리드 거리가 최소가 되는 색인\n",
    "np.argmin(EuclidianDistance,axis=1)"
   ]
  },
  {
   "cell_type": "code",
   "execution_count": 30,
   "id": "6e5667a5",
   "metadata": {},
   "outputs": [
    {
     "data": {
      "text/plain": [
       "array([1, 1, 1, 2, 1, 2, 2, 1, 1, 1, 1, 2, 2, 2, 2, 2, 1, 1], dtype=int64)"
      ]
     },
     "execution_count": 30,
     "metadata": {},
     "output_type": "execute_result"
    }
   ],
   "source": [
    "# K 클러스터 저장\n",
    "C=np.argmin(EuclidianDistance,axis=1)+1\n",
    "C "
   ]
  },
  {
   "cell_type": "code",
   "execution_count": 31,
   "id": "8e20cac7",
   "metadata": {},
   "outputs": [
    {
     "data": {
      "text/plain": [
       "{1: array([], shape=(2, 0), dtype=float64),\n",
       " 2: array([], shape=(2, 0), dtype=float64),\n",
       " 3: array([], shape=(2, 0), dtype=float64)}"
      ]
     },
     "execution_count": 31,
     "metadata": {},
     "output_type": "execute_result"
    }
   ],
   "source": [
    "Y={}\n",
    "for k in range(K): # 0, 1, 2\n",
    "    Y[k+1]=np.array([]).reshape(2,0) # 특징 개수\n",
    "Y"
   ]
  },
  {
   "cell_type": "code",
   "execution_count": 32,
   "id": "9382da49",
   "metadata": {},
   "outputs": [
    {
     "data": {
      "text/plain": [
       "array([[25.],\n",
       "       [48.]])"
      ]
     },
     "execution_count": 32,
     "metadata": {},
     "output_type": "execute_result"
    }
   ],
   "source": [
    "# 출력값 임시 딕셔너리 갱신\n",
    "Y[C[0]]=np.c_[Y[C[0]],X[0]] # C[0] 키 값에 대한 재귀적 갱신\n",
    "Y[C[0]]"
   ]
  },
  {
   "cell_type": "code",
   "execution_count": 33,
   "id": "89c4f3f5",
   "metadata": {},
   "outputs": [
    {
     "data": {
      "text/plain": [
       "{1: array([[25. , 25. ,  6.8,  1.3, 14.9,  3.6,  7. , 21.9,  5.6,  3.5,  6.3],\n",
       "        [48. , 48. , 41.4, 37.4, 25.9, 42.3, 34.7, 41.9, 34.1, 41.4, 31.6]]),\n",
       " 2: array([[ 7.4,  4.7,  1.6,  1. ,  3. , 11.2,  3.5,  1.3],\n",
       "        [26.6, 23.4, 25.1, 29.3, 10.8, 19.4, 17.5, 19.7]]),\n",
       " 3: array([], shape=(2, 0), dtype=float64)}"
      ]
     },
     "execution_count": 33,
     "metadata": {},
     "output_type": "execute_result"
    }
   ],
   "source": [
    "for i in range(m): # m=22\n",
    "    Y[C[i]]=np.c_[Y[C[i]],X[i]]\n",
    "Y"
   ]
  },
  {
   "cell_type": "code",
   "execution_count": 34,
   "id": "23bbab5c",
   "metadata": {},
   "outputs": [
    {
     "data": {
      "text/plain": [
       "array([[25. , 25. ,  6.8,  1.3, 14.9,  3.6,  7. , 21.9,  5.6,  3.5,  6.3],\n",
       "       [48. , 48. , 41.4, 37.4, 25.9, 42.3, 34.7, 41.9, 34.1, 41.4, 31.6]])"
      ]
     },
     "execution_count": 34,
     "metadata": {},
     "output_type": "execute_result"
    }
   ],
   "source": [
    "Y[1]"
   ]
  },
  {
   "cell_type": "code",
   "execution_count": 35,
   "id": "ca5a4d1a",
   "metadata": {},
   "outputs": [
    {
     "data": {
      "text/plain": [
       "array([[25. , 48. ],\n",
       "       [25. , 48. ],\n",
       "       [ 6.8, 41.4],\n",
       "       [ 1.3, 37.4],\n",
       "       [14.9, 25.9],\n",
       "       [ 3.6, 42.3],\n",
       "       [ 7. , 34.7],\n",
       "       [21.9, 41.9],\n",
       "       [ 5.6, 34.1],\n",
       "       [ 3.5, 41.4],\n",
       "       [ 6.3, 31.6]])"
      ]
     },
     "execution_count": 35,
     "metadata": {},
     "output_type": "execute_result"
    }
   ],
   "source": [
    "Y[1].T"
   ]
  },
  {
   "cell_type": "code",
   "execution_count": 42,
   "id": "f98a4190",
   "metadata": {},
   "outputs": [
    {
     "data": {
      "text/plain": [
       "{1: array([[25. , 48. ],\n",
       "        [25. , 48. ],\n",
       "        [ 6.8, 41.4],\n",
       "        [ 1.3, 37.4],\n",
       "        [14.9, 25.9],\n",
       "        [ 3.6, 42.3],\n",
       "        [ 7. , 34.7],\n",
       "        [21.9, 41.9],\n",
       "        [ 5.6, 34.1],\n",
       "        [ 3.5, 41.4],\n",
       "        [ 6.3, 31.6]]),\n",
       " 2: array([[ 7.4, 26.6],\n",
       "        [ 4.7, 23.4],\n",
       "        [ 1.6, 25.1],\n",
       "        [ 1. , 29.3],\n",
       "        [ 3. , 10.8],\n",
       "        [11.2, 19.4],\n",
       "        [ 3.5, 17.5],\n",
       "        [ 1.3, 19.7]]),\n",
       " 3: array([], shape=(0, 2), dtype=float64)}"
      ]
     },
     "execution_count": 42,
     "metadata": {},
     "output_type": "execute_result"
    }
   ],
   "source": [
    "for k in range(K): # 0, 1, 2\n",
    "    Y[k+1]=Y[k+1].T\n",
    "Y"
   ]
  },
  {
   "cell_type": "code",
   "execution_count": 47,
   "id": "3fefb60f",
   "metadata": {},
   "outputs": [
    {
     "data": {
      "text/plain": [
       "array([[10.99090909,  4.2125    ,         nan],\n",
       "       [38.79090909, 21.475     ,         nan]])"
      ]
     },
     "execution_count": 47,
     "metadata": {},
     "output_type": "execute_result"
    }
   ],
   "source": [
    "for k in range(K): \n",
    "     Centroids[:,k]=np.mean(Y[k+1],axis=0)\n",
    "Centroids\n",
    "#nan 값 해결 못함"
   ]
  },
  {
   "cell_type": "code",
   "execution_count": null,
   "id": "2b8eb1c9",
   "metadata": {},
   "outputs": [],
   "source": [
    "#nan 값 해결 못함\n",
    "'''\n",
    "color=['red','blue','green']\n",
    "labels=['cluster1','cluster2','cluster3']\n",
    "for k in range(K):\n",
    "    plt.scatter(Output[k+1][:,0],Output[k+1][:,1],c=color[k],label=labels[k])\n",
    "plt.scatter(Centroids[0,:],Centroids[1,:],s=300,c='yellow',label='Centroids')\n",
    "plt.xlabel('all')\n",
    "plt.ylabel('user')\n",
    "plt.legend()\n",
    "plt.show()\n",
    "'''"
   ]
  },
  {
   "cell_type": "code",
   "execution_count": 53,
   "id": "254377aa",
   "metadata": {},
   "outputs": [
    {
     "data": {
      "image/png": "[encoded data removed]",
      "text/plain": [
       "<Figure size 432x288 with 1 Axes>"
      ]
     },
     "metadata": {
      "needs_background": "light"
     },
     "output_type": "display_data"
    }
   ],
   "source": [
    "color=['red','blue','green']\n",
    "labels=['cluster1','cluster2','cluster3']\n",
    "plt.scatter(Centroids[0,:],Centroids[1,:],s=300,c='yellow',label='Centroids')\n",
    "plt.xlabel('all')\n",
    "plt.ylabel('user')\n",
    "plt.legend()\n",
    "plt.show()"
   ]
  },
  {
   "cell_type": "code",
   "execution_count": null,
   "id": "837c5204",
   "metadata": {},
   "outputs": [],
   "source": []
  }
 ],
 "metadata": {
  "kernelspec": {
   "display_name": "Python 3",
   "language": "python",
   "name": "python3"
  },
  "language_info": {
   "codemirror_mode": {
    "name": "ipython",
    "version": 3
   },
   "file_extension": ".py",
   "mimetype": "text/x-python",
   "name": "python",
   "nbconvert_exporter": "python",
   "pygments_lexer": "ipython3",
   "version": "3.8.8"
  }
 },
 "nbformat": 4,
 "nbformat_minor": 5
}
