{
 "cells": [
  {
   "cell_type": "code",
   "execution_count": 42,
   "id": "95331712",
   "metadata": {},
   "outputs": [],
   "source": [
    "import pandas as pd\n",
    "\n"
   ]
  },
  {
   "cell_type": "code",
   "execution_count": 62,
   "id": "af56bb6e",
   "metadata": {},
   "outputs": [
    {
     "data": {
      "text/html": [
       "<div>\n",
       "<style scoped>\n",
       "    .dataframe tbody tr th:only-of-type {\n",
       "        vertical-align: middle;\n",
       "    }\n",
       "\n",
       "    .dataframe tbody tr th {\n",
       "        vertical-align: top;\n",
       "    }\n",
       "\n",
       "    .dataframe thead th {\n",
       "        text-align: right;\n",
       "    }\n",
       "</style>\n",
       "<table border=\"1\" class=\"dataframe\">\n",
       "  <thead>\n",
       "    <tr style=\"text-align: right;\">\n",
       "      <th></th>\n",
       "      <th>구분(1)</th>\n",
       "      <th>평일전체</th>\n",
       "      <th>평일이용</th>\n",
       "      <th>휴일전체</th>\n",
       "      <th>휴일이용</th>\n",
       "    </tr>\n",
       "  </thead>\n",
       "  <tbody>\n",
       "    <tr>\n",
       "      <th>종이책</th>\n",
       "      <td>종이책</td>\n",
       "      <td>25.0</td>\n",
       "      <td>48.0</td>\n",
       "      <td>21.9</td>\n",
       "      <td>41.9</td>\n",
       "    </tr>\n",
       "    <tr>\n",
       "      <th>전자책</th>\n",
       "      <td>전자책</td>\n",
       "      <td>6.8</td>\n",
       "      <td>41.4</td>\n",
       "      <td>5.6</td>\n",
       "      <td>34.1</td>\n",
       "    </tr>\n",
       "    <tr>\n",
       "      <th>오디오북</th>\n",
       "      <td>오디오북</td>\n",
       "      <td>1.3</td>\n",
       "      <td>37.4</td>\n",
       "      <td>1.0</td>\n",
       "      <td>29.3</td>\n",
       "    </tr>\n",
       "    <tr>\n",
       "      <th>종이신문</th>\n",
       "      <td>종이신문</td>\n",
       "      <td>7.4</td>\n",
       "      <td>26.6</td>\n",
       "      <td>3.0</td>\n",
       "      <td>10.8</td>\n",
       "    </tr>\n",
       "    <tr>\n",
       "      <th>인터넷 신문</th>\n",
       "      <td>인터넷 신문</td>\n",
       "      <td>14.9</td>\n",
       "      <td>25.9</td>\n",
       "      <td>11.2</td>\n",
       "      <td>19.4</td>\n",
       "    </tr>\n",
       "    <tr>\n",
       "      <th>종이잡지</th>\n",
       "      <td>종이잡지</td>\n",
       "      <td>4.7</td>\n",
       "      <td>23.4</td>\n",
       "      <td>3.5</td>\n",
       "      <td>17.5</td>\n",
       "    </tr>\n",
       "    <tr>\n",
       "      <th>웹진</th>\n",
       "      <td>웹진</td>\n",
       "      <td>1.6</td>\n",
       "      <td>25.1</td>\n",
       "      <td>1.3</td>\n",
       "      <td>19.7</td>\n",
       "    </tr>\n",
       "    <tr>\n",
       "      <th>만화책</th>\n",
       "      <td>만화책</td>\n",
       "      <td>3.6</td>\n",
       "      <td>42.3</td>\n",
       "      <td>3.5</td>\n",
       "      <td>41.4</td>\n",
       "    </tr>\n",
       "    <tr>\n",
       "      <th>웹툰</th>\n",
       "      <td>웹툰</td>\n",
       "      <td>7.0</td>\n",
       "      <td>34.7</td>\n",
       "      <td>6.3</td>\n",
       "      <td>31.6</td>\n",
       "    </tr>\n",
       "  </tbody>\n",
       "</table>\n",
       "</div>"
      ],
      "text/plain": [
       "         구분(1)  평일전체  평일이용  휴일전체  휴일이용\n",
       "종이책        종이책  25.0  48.0  21.9  41.9\n",
       "전자책        전자책   6.8  41.4   5.6  34.1\n",
       "오디오북      오디오북   1.3  37.4   1.0  29.3\n",
       "종이신문      종이신문   7.4  26.6   3.0  10.8\n",
       "인터넷 신문  인터넷 신문  14.9  25.9  11.2  19.4\n",
       "종이잡지      종이잡지   4.7  23.4   3.5  17.5\n",
       "웹진          웹진   1.6  25.1   1.3  19.7\n",
       "만화책        만화책   3.6  42.3   3.5  41.4\n",
       "웹툰          웹툰   7.0  34.7   6.3  31.6"
      ]
     },
     "execution_count": 62,
     "metadata": {},
     "output_type": "execute_result"
    }
   ],
   "source": [
    "pd.read_csv('abc.csv', encoding = 'cp949')\n",
    "df.rename(index = {0: \"종이책\", 1: \"전자책\", 2: \"오디오북\", 3: \"종이신문\", 4: \"인터넷 신문\", 5: \"종이잡지\", 6: \"웹진\", 7: \"만화책\", 8: \"웹툰\"})\n"
   ]
  },
  {
   "cell_type": "code",
   "execution_count": 44,
   "id": "1f80d6b4",
   "metadata": {},
   "outputs": [],
   "source": [
    "df = pd.read_csv('abc.csv', encoding = 'cp949')"
   ]
  },
  {
   "cell_type": "code",
   "execution_count": 57,
   "id": "554c2512",
   "metadata": {},
   "outputs": [
    {
     "name": "stdout",
     "output_type": "stream",
     "text": [
      "    구분(1)  평일전체  평일이용  휴일전체  휴일이용    구분\n",
      "0     종이책  25.0  48.0  21.9  41.9   디지털\n",
      "1     전자책   6.8  41.4   5.6  34.1  아날로그\n",
      "2    오디오북   1.3  37.4   1.0  29.3  아날로그\n",
      "3    종이신문   7.4  26.6   3.0  10.8   디지털\n",
      "4  인터넷 신문  14.9  25.9  11.2  19.4   디지털\n",
      "5    종이잡지   4.7  23.4   3.5  17.5  아날로그\n",
      "6      웹진   1.6  25.1   1.3  19.7   디지털\n",
      "7     만화책   3.6  42.3   3.5  41.4  아날로그\n",
      "8      웹툰   7.0  34.7   6.3  31.6   디지털\n"
     ]
    }
   ],
   "source": [
    "df['구분'] = ['디지털','아날로그','아날로그','디지털','디지털','아날로그','디지털','아날로그','디지털']\n",
    "print(df)"
   ]
  },
  {
   "cell_type": "code",
   "execution_count": 58,
   "id": "dcea15b6",
   "metadata": {},
   "outputs": [
    {
     "name": "stdout",
     "output_type": "stream",
     "text": [
      "구분\n",
      "디지털     32.060\n",
      "아날로그    36.125\n",
      "Name: 평일이용, dtype: float64\n"
     ]
    }
   ],
   "source": [
    "print(df.groupby('구분')['평일이용'].mean())"
   ]
  },
  {
   "cell_type": "code",
   "execution_count": 59,
   "id": "2e4b4197",
   "metadata": {},
   "outputs": [
    {
     "name": "stdout",
     "output_type": "stream",
     "text": [
      "구분\n",
      "디지털     8.74\n",
      "아날로그    3.40\n",
      "Name: 휴일전체, dtype: float64\n"
     ]
    }
   ],
   "source": [
    "print(df.groupby('구분')['휴일전체'].mean())"
   ]
  },
  {
   "cell_type": "code",
   "execution_count": 60,
   "id": "ccd27abd",
   "metadata": {},
   "outputs": [
    {
     "name": "stdout",
     "output_type": "stream",
     "text": [
      "구분\n",
      "디지털     24.680\n",
      "아날로그    30.575\n",
      "Name: 휴일이용, dtype: float64\n"
     ]
    }
   ],
   "source": [
    "print(df.groupby('구분')['휴일이용'].mean())"
   ]
  },
  {
   "cell_type": "code",
   "execution_count": 66,
   "id": "b98423e9",
   "metadata": {},
   "outputs": [
    {
     "data": {
      "image/png": "[encoded data removed]",
      "text/plain": [
       "<Figure size 432x288 with 1 Axes>"
      ]
     },
     "metadata": {
      "needs_background": "light"
     },
     "output_type": "display_data"
    }
   ],
   "source": [
    "import matplotlib.pyplot as plt\n",
    "from matplotlib import font_manager, rc\n",
    "font_name = font_manager.FontProperties(fname=\"c:/Windows/Fonts/malgun.ttf\").get_name()\n",
    "rc('font', family=font_name)\n",
    "ax = df.plot(kind='bar')\n"
   ]
  },
  {
   "cell_type": "code",
   "execution_count": null,
   "id": "2dcbf61a",
   "metadata": {},
   "outputs": [],
   "source": []
  }
 ],
 "metadata": {
  "kernelspec": {
   "display_name": "Python 3",
   "language": "python",
   "name": "python3"
  },
  "language_info": {
   "codemirror_mode": {
    "name": "ipython",
    "version": 3
   },
   "file_extension": ".py",
   "mimetype": "text/x-python",
   "name": "python",
   "nbconvert_exporter": "python",
   "pygments_lexer": "ipython3",
   "version": "3.8.8"
  }
 },
 "nbformat": 4,
 "nbformat_minor": 5
}
